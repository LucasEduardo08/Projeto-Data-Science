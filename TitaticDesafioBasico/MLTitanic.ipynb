{
 "cells": [
  {
   "cell_type": "code",
   "execution_count": 20,
   "id": "eece33fd",
   "metadata": {},
   "outputs": [],
   "source": [
    "#!pip -q install plotly --upgrade\n",
    "\n",
    "import pandas as pd\n",
    "import numpy as np\n",
    "import seaborn as sns\n",
    "import matplotlib.pyplot as plt\n",
    "import plotly.express as px"
   ]
  },
  {
   "cell_type": "code",
   "execution_count": 21,
   "id": "0eff8136",
   "metadata": {
    "scrolled": true
   },
   "outputs": [],
   "source": [
    "# Carrego o dataset\n",
    "dataset_titanic = pd.read_csv(\"train.csv\")"
   ]
  },
  {
   "cell_type": "code",
   "execution_count": 22,
   "id": "3d7f6e81",
   "metadata": {},
   "outputs": [
    {
     "data": {
      "text/html": [
       "<div>\n",
       "<style scoped>\n",
       "    .dataframe tbody tr th:only-of-type {\n",
       "        vertical-align: middle;\n",
       "    }\n",
       "\n",
       "    .dataframe tbody tr th {\n",
       "        vertical-align: top;\n",
       "    }\n",
       "\n",
       "    .dataframe thead th {\n",
       "        text-align: right;\n",
       "    }\n",
       "</style>\n",
       "<table border=\"1\" class=\"dataframe\">\n",
       "  <thead>\n",
       "    <tr style=\"text-align: right;\">\n",
       "      <th></th>\n",
       "      <th>PassengerId</th>\n",
       "      <th>Survived</th>\n",
       "      <th>Pclass</th>\n",
       "      <th>Name</th>\n",
       "      <th>Sex</th>\n",
       "      <th>Age</th>\n",
       "      <th>SibSp</th>\n",
       "      <th>Parch</th>\n",
       "      <th>Ticket</th>\n",
       "      <th>Fare</th>\n",
       "      <th>Cabin</th>\n",
       "      <th>Embarked</th>\n",
       "    </tr>\n",
       "  </thead>\n",
       "  <tbody>\n",
       "    <tr>\n",
       "      <th>0</th>\n",
       "      <td>1</td>\n",
       "      <td>0</td>\n",
       "      <td>3</td>\n",
       "      <td>Braund, Mr. Owen Harris</td>\n",
       "      <td>male</td>\n",
       "      <td>22.0</td>\n",
       "      <td>1</td>\n",
       "      <td>0</td>\n",
       "      <td>A/5 21171</td>\n",
       "      <td>7.2500</td>\n",
       "      <td>NaN</td>\n",
       "      <td>S</td>\n",
       "    </tr>\n",
       "    <tr>\n",
       "      <th>1</th>\n",
       "      <td>2</td>\n",
       "      <td>1</td>\n",
       "      <td>1</td>\n",
       "      <td>Cumings, Mrs. John Bradley (Florence Briggs Th...</td>\n",
       "      <td>female</td>\n",
       "      <td>38.0</td>\n",
       "      <td>1</td>\n",
       "      <td>0</td>\n",
       "      <td>PC 17599</td>\n",
       "      <td>71.2833</td>\n",
       "      <td>C85</td>\n",
       "      <td>C</td>\n",
       "    </tr>\n",
       "    <tr>\n",
       "      <th>2</th>\n",
       "      <td>3</td>\n",
       "      <td>1</td>\n",
       "      <td>3</td>\n",
       "      <td>Heikkinen, Miss. Laina</td>\n",
       "      <td>female</td>\n",
       "      <td>26.0</td>\n",
       "      <td>0</td>\n",
       "      <td>0</td>\n",
       "      <td>STON/O2. 3101282</td>\n",
       "      <td>7.9250</td>\n",
       "      <td>NaN</td>\n",
       "      <td>S</td>\n",
       "    </tr>\n",
       "    <tr>\n",
       "      <th>3</th>\n",
       "      <td>4</td>\n",
       "      <td>1</td>\n",
       "      <td>1</td>\n",
       "      <td>Futrelle, Mrs. Jacques Heath (Lily May Peel)</td>\n",
       "      <td>female</td>\n",
       "      <td>35.0</td>\n",
       "      <td>1</td>\n",
       "      <td>0</td>\n",
       "      <td>113803</td>\n",
       "      <td>53.1000</td>\n",
       "      <td>C123</td>\n",
       "      <td>S</td>\n",
       "    </tr>\n",
       "    <tr>\n",
       "      <th>4</th>\n",
       "      <td>5</td>\n",
       "      <td>0</td>\n",
       "      <td>3</td>\n",
       "      <td>Allen, Mr. William Henry</td>\n",
       "      <td>male</td>\n",
       "      <td>35.0</td>\n",
       "      <td>0</td>\n",
       "      <td>0</td>\n",
       "      <td>373450</td>\n",
       "      <td>8.0500</td>\n",
       "      <td>NaN</td>\n",
       "      <td>S</td>\n",
       "    </tr>\n",
       "  </tbody>\n",
       "</table>\n",
       "</div>"
      ],
      "text/plain": [
       "   PassengerId  Survived  Pclass  \\\n",
       "0            1         0       3   \n",
       "1            2         1       1   \n",
       "2            3         1       3   \n",
       "3            4         1       1   \n",
       "4            5         0       3   \n",
       "\n",
       "                                                Name     Sex   Age  SibSp  \\\n",
       "0                            Braund, Mr. Owen Harris    male  22.0      1   \n",
       "1  Cumings, Mrs. John Bradley (Florence Briggs Th...  female  38.0      1   \n",
       "2                             Heikkinen, Miss. Laina  female  26.0      0   \n",
       "3       Futrelle, Mrs. Jacques Heath (Lily May Peel)  female  35.0      1   \n",
       "4                           Allen, Mr. William Henry    male  35.0      0   \n",
       "\n",
       "   Parch            Ticket     Fare Cabin Embarked  \n",
       "0      0         A/5 21171   7.2500   NaN        S  \n",
       "1      0          PC 17599  71.2833   C85        C  \n",
       "2      0  STON/O2. 3101282   7.9250   NaN        S  \n",
       "3      0            113803  53.1000  C123        S  \n",
       "4      0            373450   8.0500   NaN        S  "
      ]
     },
     "execution_count": 22,
     "metadata": {},
     "output_type": "execute_result"
    }
   ],
   "source": [
    "# Olho as 5 primeiras linhas\n",
    "dataset_titanic.head()"
   ]
  },
  {
   "cell_type": "code",
   "execution_count": 23,
   "id": "66ca3911",
   "metadata": {},
   "outputs": [
    {
     "data": {
      "text/plain": [
       "Index(['PassengerId', 'Survived', 'Pclass', 'Name', 'Sex', 'Age', 'SibSp',\n",
       "       'Parch', 'Ticket', 'Fare', 'Cabin', 'Embarked'],\n",
       "      dtype='object')"
      ]
     },
     "execution_count": 23,
     "metadata": {},
     "output_type": "execute_result"
    }
   ],
   "source": [
    "# Pego as colunas do dataset\n",
    "dataset_titanic.columns"
   ]
  },
  {
   "cell_type": "code",
   "execution_count": 24,
   "id": "3de30b59",
   "metadata": {},
   "outputs": [],
   "source": [
    "# Coloco a variável target pro final\n",
    "dataset_titanic = pd.DataFrame(dataset_titanic, columns = ['PassengerId', 'Pclass', 'Name', 'Sex', 'Age', 'SibSp',\n",
    "       'Parch', 'Ticket', 'Fare', 'Cabin', 'Embarked', 'Survived'])"
   ]
  },
  {
   "cell_type": "code",
   "execution_count": 25,
   "id": "97cd5c9e",
   "metadata": {},
   "outputs": [
    {
     "data": {
      "text/html": [
       "<div>\n",
       "<style scoped>\n",
       "    .dataframe tbody tr th:only-of-type {\n",
       "        vertical-align: middle;\n",
       "    }\n",
       "\n",
       "    .dataframe tbody tr th {\n",
       "        vertical-align: top;\n",
       "    }\n",
       "\n",
       "    .dataframe thead th {\n",
       "        text-align: right;\n",
       "    }\n",
       "</style>\n",
       "<table border=\"1\" class=\"dataframe\">\n",
       "  <thead>\n",
       "    <tr style=\"text-align: right;\">\n",
       "      <th></th>\n",
       "      <th>PassengerId</th>\n",
       "      <th>Pclass</th>\n",
       "      <th>Name</th>\n",
       "      <th>Sex</th>\n",
       "      <th>Age</th>\n",
       "      <th>SibSp</th>\n",
       "      <th>Parch</th>\n",
       "      <th>Ticket</th>\n",
       "      <th>Fare</th>\n",
       "      <th>Cabin</th>\n",
       "      <th>Embarked</th>\n",
       "      <th>Survived</th>\n",
       "    </tr>\n",
       "  </thead>\n",
       "  <tbody>\n",
       "    <tr>\n",
       "      <th>0</th>\n",
       "      <td>1</td>\n",
       "      <td>3</td>\n",
       "      <td>Braund, Mr. Owen Harris</td>\n",
       "      <td>male</td>\n",
       "      <td>22.0</td>\n",
       "      <td>1</td>\n",
       "      <td>0</td>\n",
       "      <td>A/5 21171</td>\n",
       "      <td>7.2500</td>\n",
       "      <td>NaN</td>\n",
       "      <td>S</td>\n",
       "      <td>0</td>\n",
       "    </tr>\n",
       "    <tr>\n",
       "      <th>1</th>\n",
       "      <td>2</td>\n",
       "      <td>1</td>\n",
       "      <td>Cumings, Mrs. John Bradley (Florence Briggs Th...</td>\n",
       "      <td>female</td>\n",
       "      <td>38.0</td>\n",
       "      <td>1</td>\n",
       "      <td>0</td>\n",
       "      <td>PC 17599</td>\n",
       "      <td>71.2833</td>\n",
       "      <td>C85</td>\n",
       "      <td>C</td>\n",
       "      <td>1</td>\n",
       "    </tr>\n",
       "    <tr>\n",
       "      <th>2</th>\n",
       "      <td>3</td>\n",
       "      <td>3</td>\n",
       "      <td>Heikkinen, Miss. Laina</td>\n",
       "      <td>female</td>\n",
       "      <td>26.0</td>\n",
       "      <td>0</td>\n",
       "      <td>0</td>\n",
       "      <td>STON/O2. 3101282</td>\n",
       "      <td>7.9250</td>\n",
       "      <td>NaN</td>\n",
       "      <td>S</td>\n",
       "      <td>1</td>\n",
       "    </tr>\n",
       "    <tr>\n",
       "      <th>3</th>\n",
       "      <td>4</td>\n",
       "      <td>1</td>\n",
       "      <td>Futrelle, Mrs. Jacques Heath (Lily May Peel)</td>\n",
       "      <td>female</td>\n",
       "      <td>35.0</td>\n",
       "      <td>1</td>\n",
       "      <td>0</td>\n",
       "      <td>113803</td>\n",
       "      <td>53.1000</td>\n",
       "      <td>C123</td>\n",
       "      <td>S</td>\n",
       "      <td>1</td>\n",
       "    </tr>\n",
       "    <tr>\n",
       "      <th>4</th>\n",
       "      <td>5</td>\n",
       "      <td>3</td>\n",
       "      <td>Allen, Mr. William Henry</td>\n",
       "      <td>male</td>\n",
       "      <td>35.0</td>\n",
       "      <td>0</td>\n",
       "      <td>0</td>\n",
       "      <td>373450</td>\n",
       "      <td>8.0500</td>\n",
       "      <td>NaN</td>\n",
       "      <td>S</td>\n",
       "      <td>0</td>\n",
       "    </tr>\n",
       "  </tbody>\n",
       "</table>\n",
       "</div>"
      ],
      "text/plain": [
       "   PassengerId  Pclass                                               Name  \\\n",
       "0            1       3                            Braund, Mr. Owen Harris   \n",
       "1            2       1  Cumings, Mrs. John Bradley (Florence Briggs Th...   \n",
       "2            3       3                             Heikkinen, Miss. Laina   \n",
       "3            4       1       Futrelle, Mrs. Jacques Heath (Lily May Peel)   \n",
       "4            5       3                           Allen, Mr. William Henry   \n",
       "\n",
       "      Sex   Age  SibSp  Parch            Ticket     Fare Cabin Embarked  \\\n",
       "0    male  22.0      1      0         A/5 21171   7.2500   NaN        S   \n",
       "1  female  38.0      1      0          PC 17599  71.2833   C85        C   \n",
       "2  female  26.0      0      0  STON/O2. 3101282   7.9250   NaN        S   \n",
       "3  female  35.0      1      0            113803  53.1000  C123        S   \n",
       "4    male  35.0      0      0            373450   8.0500   NaN        S   \n",
       "\n",
       "   Survived  \n",
       "0         0  \n",
       "1         1  \n",
       "2         1  \n",
       "3         1  \n",
       "4         0  "
      ]
     },
     "execution_count": 25,
     "metadata": {},
     "output_type": "execute_result"
    }
   ],
   "source": [
    "# Olho os 5 primeiros registros\n",
    "dataset_titanic.head()"
   ]
  },
  {
   "cell_type": "code",
   "execution_count": 26,
   "id": "a36193dc",
   "metadata": {},
   "outputs": [
    {
     "data": {
      "text/html": [
       "<div>\n",
       "<style scoped>\n",
       "    .dataframe tbody tr th:only-of-type {\n",
       "        vertical-align: middle;\n",
       "    }\n",
       "\n",
       "    .dataframe tbody tr th {\n",
       "        vertical-align: top;\n",
       "    }\n",
       "\n",
       "    .dataframe thead th {\n",
       "        text-align: right;\n",
       "    }\n",
       "</style>\n",
       "<table border=\"1\" class=\"dataframe\">\n",
       "  <thead>\n",
       "    <tr style=\"text-align: right;\">\n",
       "      <th></th>\n",
       "      <th>PassengerId</th>\n",
       "      <th>Pclass</th>\n",
       "      <th>Age</th>\n",
       "      <th>SibSp</th>\n",
       "      <th>Parch</th>\n",
       "      <th>Fare</th>\n",
       "      <th>Survived</th>\n",
       "    </tr>\n",
       "  </thead>\n",
       "  <tbody>\n",
       "    <tr>\n",
       "      <th>count</th>\n",
       "      <td>891.000000</td>\n",
       "      <td>891.000000</td>\n",
       "      <td>714.000000</td>\n",
       "      <td>891.000000</td>\n",
       "      <td>891.000000</td>\n",
       "      <td>891.000000</td>\n",
       "      <td>891.000000</td>\n",
       "    </tr>\n",
       "    <tr>\n",
       "      <th>mean</th>\n",
       "      <td>446.000000</td>\n",
       "      <td>2.308642</td>\n",
       "      <td>29.699118</td>\n",
       "      <td>0.523008</td>\n",
       "      <td>0.381594</td>\n",
       "      <td>32.204208</td>\n",
       "      <td>0.383838</td>\n",
       "    </tr>\n",
       "    <tr>\n",
       "      <th>std</th>\n",
       "      <td>257.353842</td>\n",
       "      <td>0.836071</td>\n",
       "      <td>14.526497</td>\n",
       "      <td>1.102743</td>\n",
       "      <td>0.806057</td>\n",
       "      <td>49.693429</td>\n",
       "      <td>0.486592</td>\n",
       "    </tr>\n",
       "    <tr>\n",
       "      <th>min</th>\n",
       "      <td>1.000000</td>\n",
       "      <td>1.000000</td>\n",
       "      <td>0.420000</td>\n",
       "      <td>0.000000</td>\n",
       "      <td>0.000000</td>\n",
       "      <td>0.000000</td>\n",
       "      <td>0.000000</td>\n",
       "    </tr>\n",
       "    <tr>\n",
       "      <th>25%</th>\n",
       "      <td>223.500000</td>\n",
       "      <td>2.000000</td>\n",
       "      <td>20.125000</td>\n",
       "      <td>0.000000</td>\n",
       "      <td>0.000000</td>\n",
       "      <td>7.910400</td>\n",
       "      <td>0.000000</td>\n",
       "    </tr>\n",
       "    <tr>\n",
       "      <th>50%</th>\n",
       "      <td>446.000000</td>\n",
       "      <td>3.000000</td>\n",
       "      <td>28.000000</td>\n",
       "      <td>0.000000</td>\n",
       "      <td>0.000000</td>\n",
       "      <td>14.454200</td>\n",
       "      <td>0.000000</td>\n",
       "    </tr>\n",
       "    <tr>\n",
       "      <th>75%</th>\n",
       "      <td>668.500000</td>\n",
       "      <td>3.000000</td>\n",
       "      <td>38.000000</td>\n",
       "      <td>1.000000</td>\n",
       "      <td>0.000000</td>\n",
       "      <td>31.000000</td>\n",
       "      <td>1.000000</td>\n",
       "    </tr>\n",
       "    <tr>\n",
       "      <th>max</th>\n",
       "      <td>891.000000</td>\n",
       "      <td>3.000000</td>\n",
       "      <td>80.000000</td>\n",
       "      <td>8.000000</td>\n",
       "      <td>6.000000</td>\n",
       "      <td>512.329200</td>\n",
       "      <td>1.000000</td>\n",
       "    </tr>\n",
       "  </tbody>\n",
       "</table>\n",
       "</div>"
      ],
      "text/plain": [
       "       PassengerId      Pclass         Age       SibSp       Parch  \\\n",
       "count   891.000000  891.000000  714.000000  891.000000  891.000000   \n",
       "mean    446.000000    2.308642   29.699118    0.523008    0.381594   \n",
       "std     257.353842    0.836071   14.526497    1.102743    0.806057   \n",
       "min       1.000000    1.000000    0.420000    0.000000    0.000000   \n",
       "25%     223.500000    2.000000   20.125000    0.000000    0.000000   \n",
       "50%     446.000000    3.000000   28.000000    0.000000    0.000000   \n",
       "75%     668.500000    3.000000   38.000000    1.000000    0.000000   \n",
       "max     891.000000    3.000000   80.000000    8.000000    6.000000   \n",
       "\n",
       "             Fare    Survived  \n",
       "count  891.000000  891.000000  \n",
       "mean    32.204208    0.383838  \n",
       "std     49.693429    0.486592  \n",
       "min      0.000000    0.000000  \n",
       "25%      7.910400    0.000000  \n",
       "50%     14.454200    0.000000  \n",
       "75%     31.000000    1.000000  \n",
       "max    512.329200    1.000000  "
      ]
     },
     "execution_count": 26,
     "metadata": {},
     "output_type": "execute_result"
    }
   ],
   "source": [
    "# Vejo a descrição do dataset\n",
    "dataset_titanic.describe()"
   ]
  },
  {
   "cell_type": "code",
   "execution_count": 27,
   "id": "8a77b700",
   "metadata": {},
   "outputs": [
    {
     "data": {
      "text/plain": [
       "891"
      ]
     },
     "execution_count": 27,
     "metadata": {},
     "output_type": "execute_result"
    }
   ],
   "source": [
    "# Vejo a quantidade de linhas do dataset\n",
    "len(dataset_titanic)"
   ]
  },
  {
   "cell_type": "code",
   "execution_count": 28,
   "id": "7458f597",
   "metadata": {
    "scrolled": true
   },
   "outputs": [
    {
     "data": {
      "text/plain": [
       "PassengerId      0\n",
       "Pclass           0\n",
       "Name             0\n",
       "Sex              0\n",
       "Age            177\n",
       "SibSp            0\n",
       "Parch            0\n",
       "Ticket           0\n",
       "Fare             0\n",
       "Cabin          687\n",
       "Embarked         2\n",
       "Survived         0\n",
       "dtype: int64"
      ]
     },
     "execution_count": 28,
     "metadata": {},
     "output_type": "execute_result"
    }
   ],
   "source": [
    "# Verifico a quantidade de dados NaN que exite\n",
    "dataset_titanic.isna().sum()"
   ]
  },
  {
   "cell_type": "markdown",
   "id": "02b469e9",
   "metadata": {},
   "source": [
    "### 1. Fazendo o tratamento dos dados\n"
   ]
  },
  {
   "cell_type": "code",
   "execution_count": 29,
   "id": "4cad442d",
   "metadata": {},
   "outputs": [
    {
     "data": {
      "text/plain": [
       "PassengerId    0\n",
       "Pclass         0\n",
       "Name           0\n",
       "Sex            0\n",
       "Age            0\n",
       "SibSp          0\n",
       "Parch          0\n",
       "Ticket         0\n",
       "Fare           0\n",
       "Cabin          0\n",
       "Embarked       0\n",
       "Survived       0\n",
       "dtype: int64"
      ]
     },
     "execution_count": 29,
     "metadata": {},
     "output_type": "execute_result"
    }
   ],
   "source": [
    "# Parece que não tem idade negativa\n",
    "dataset_titanic[dataset_titanic['Age'] < 0].count()"
   ]
  },
  {
   "cell_type": "code",
   "execution_count": 30,
   "id": "83e0d79c",
   "metadata": {},
   "outputs": [
    {
     "data": {
      "text/plain": [
       "29.69911764705882"
      ]
     },
     "execution_count": 30,
     "metadata": {},
     "output_type": "execute_result"
    }
   ],
   "source": [
    "# Buscando a média das idades\n",
    "media_idade = dataset_titanic['Age'].mean()\n",
    "media_idade"
   ]
  },
  {
   "cell_type": "code",
   "execution_count": 31,
   "id": "3b30e435",
   "metadata": {},
   "outputs": [],
   "source": [
    "# # Troco os valores NaN da idade pela média das idades\n",
    "dataset_titanic[\"Age\"].fillna(media_idade, inplace = True)"
   ]
  },
  {
   "cell_type": "code",
   "execution_count": 32,
   "id": "ed05f992",
   "metadata": {},
   "outputs": [
    {
     "data": {
      "text/plain": [
       "PassengerId      0\n",
       "Pclass           0\n",
       "Name             0\n",
       "Sex              0\n",
       "Age              0\n",
       "SibSp            0\n",
       "Parch            0\n",
       "Ticket           0\n",
       "Fare             0\n",
       "Cabin          687\n",
       "Embarked         2\n",
       "Survived         0\n",
       "dtype: int64"
      ]
     },
     "execution_count": 32,
     "metadata": {},
     "output_type": "execute_result"
    }
   ],
   "source": [
    "# Verifico se tem valores NaN na coluna idade\n",
    "dataset_titanic.isna().sum()"
   ]
  },
  {
   "cell_type": "markdown",
   "id": "72534191",
   "metadata": {},
   "source": [
    "## Removendo a coluna \"Cabin\"\n",
    "\n",
    "Essa coluna tem 687 registros NaN de 891 linhas do dataset, menos de 25% dos dados da coluna possuem registros que não são NaN. Logo, é preciso remover essa coluna."
   ]
  },
  {
   "cell_type": "code",
   "execution_count": 33,
   "id": "3f736595",
   "metadata": {},
   "outputs": [],
   "source": [
    "# Removo a coluna\n",
    "dataset_titanic = dataset_titanic.drop('Cabin', axis=1)"
   ]
  },
  {
   "cell_type": "code",
   "execution_count": 34,
   "id": "f80e0a97",
   "metadata": {},
   "outputs": [
    {
     "data": {
      "text/html": [
       "<div>\n",
       "<style scoped>\n",
       "    .dataframe tbody tr th:only-of-type {\n",
       "        vertical-align: middle;\n",
       "    }\n",
       "\n",
       "    .dataframe tbody tr th {\n",
       "        vertical-align: top;\n",
       "    }\n",
       "\n",
       "    .dataframe thead th {\n",
       "        text-align: right;\n",
       "    }\n",
       "</style>\n",
       "<table border=\"1\" class=\"dataframe\">\n",
       "  <thead>\n",
       "    <tr style=\"text-align: right;\">\n",
       "      <th></th>\n",
       "      <th>PassengerId</th>\n",
       "      <th>Pclass</th>\n",
       "      <th>Name</th>\n",
       "      <th>Sex</th>\n",
       "      <th>Age</th>\n",
       "      <th>SibSp</th>\n",
       "      <th>Parch</th>\n",
       "      <th>Ticket</th>\n",
       "      <th>Fare</th>\n",
       "      <th>Embarked</th>\n",
       "      <th>Survived</th>\n",
       "    </tr>\n",
       "  </thead>\n",
       "  <tbody>\n",
       "    <tr>\n",
       "      <th>0</th>\n",
       "      <td>1</td>\n",
       "      <td>3</td>\n",
       "      <td>Braund, Mr. Owen Harris</td>\n",
       "      <td>male</td>\n",
       "      <td>22.0</td>\n",
       "      <td>1</td>\n",
       "      <td>0</td>\n",
       "      <td>A/5 21171</td>\n",
       "      <td>7.2500</td>\n",
       "      <td>S</td>\n",
       "      <td>0</td>\n",
       "    </tr>\n",
       "    <tr>\n",
       "      <th>1</th>\n",
       "      <td>2</td>\n",
       "      <td>1</td>\n",
       "      <td>Cumings, Mrs. John Bradley (Florence Briggs Th...</td>\n",
       "      <td>female</td>\n",
       "      <td>38.0</td>\n",
       "      <td>1</td>\n",
       "      <td>0</td>\n",
       "      <td>PC 17599</td>\n",
       "      <td>71.2833</td>\n",
       "      <td>C</td>\n",
       "      <td>1</td>\n",
       "    </tr>\n",
       "    <tr>\n",
       "      <th>2</th>\n",
       "      <td>3</td>\n",
       "      <td>3</td>\n",
       "      <td>Heikkinen, Miss. Laina</td>\n",
       "      <td>female</td>\n",
       "      <td>26.0</td>\n",
       "      <td>0</td>\n",
       "      <td>0</td>\n",
       "      <td>STON/O2. 3101282</td>\n",
       "      <td>7.9250</td>\n",
       "      <td>S</td>\n",
       "      <td>1</td>\n",
       "    </tr>\n",
       "    <tr>\n",
       "      <th>3</th>\n",
       "      <td>4</td>\n",
       "      <td>1</td>\n",
       "      <td>Futrelle, Mrs. Jacques Heath (Lily May Peel)</td>\n",
       "      <td>female</td>\n",
       "      <td>35.0</td>\n",
       "      <td>1</td>\n",
       "      <td>0</td>\n",
       "      <td>113803</td>\n",
       "      <td>53.1000</td>\n",
       "      <td>S</td>\n",
       "      <td>1</td>\n",
       "    </tr>\n",
       "    <tr>\n",
       "      <th>4</th>\n",
       "      <td>5</td>\n",
       "      <td>3</td>\n",
       "      <td>Allen, Mr. William Henry</td>\n",
       "      <td>male</td>\n",
       "      <td>35.0</td>\n",
       "      <td>0</td>\n",
       "      <td>0</td>\n",
       "      <td>373450</td>\n",
       "      <td>8.0500</td>\n",
       "      <td>S</td>\n",
       "      <td>0</td>\n",
       "    </tr>\n",
       "  </tbody>\n",
       "</table>\n",
       "</div>"
      ],
      "text/plain": [
       "   PassengerId  Pclass                                               Name  \\\n",
       "0            1       3                            Braund, Mr. Owen Harris   \n",
       "1            2       1  Cumings, Mrs. John Bradley (Florence Briggs Th...   \n",
       "2            3       3                             Heikkinen, Miss. Laina   \n",
       "3            4       1       Futrelle, Mrs. Jacques Heath (Lily May Peel)   \n",
       "4            5       3                           Allen, Mr. William Henry   \n",
       "\n",
       "      Sex   Age  SibSp  Parch            Ticket     Fare Embarked  Survived  \n",
       "0    male  22.0      1      0         A/5 21171   7.2500        S         0  \n",
       "1  female  38.0      1      0          PC 17599  71.2833        C         1  \n",
       "2  female  26.0      0      0  STON/O2. 3101282   7.9250        S         1  \n",
       "3  female  35.0      1      0            113803  53.1000        S         1  \n",
       "4    male  35.0      0      0            373450   8.0500        S         0  "
      ]
     },
     "execution_count": 34,
     "metadata": {},
     "output_type": "execute_result"
    }
   ],
   "source": [
    "# Olho pro dataset para ver se a coluna foi removida\n",
    "dataset_titanic.head()"
   ]
  },
  {
   "cell_type": "code",
   "execution_count": 35,
   "id": "8c615177",
   "metadata": {},
   "outputs": [
    {
     "data": {
      "text/plain": [
       "891"
      ]
     },
     "execution_count": 35,
     "metadata": {},
     "output_type": "execute_result"
    }
   ],
   "source": [
    "# Verificar o tamanho do dataset\n",
    "len(dataset_titanic)"
   ]
  },
  {
   "cell_type": "markdown",
   "id": "55a06f98",
   "metadata": {},
   "source": [
    "## Tratando os 2 registros NaN da coluna Embarked\n"
   ]
  },
  {
   "cell_type": "code",
   "execution_count": 36,
   "id": "f61b1a2a",
   "metadata": {},
   "outputs": [
    {
     "data": {
      "text/plain": [
       "PassengerId    0\n",
       "Pclass         0\n",
       "Name           0\n",
       "Sex            0\n",
       "Age            0\n",
       "SibSp          0\n",
       "Parch          0\n",
       "Ticket         0\n",
       "Fare           0\n",
       "Embarked       2\n",
       "Survived       0\n",
       "dtype: int64"
      ]
     },
     "execution_count": 36,
     "metadata": {},
     "output_type": "execute_result"
    }
   ],
   "source": [
    "dataset_titanic.isna().sum()"
   ]
  },
  {
   "cell_type": "code",
   "execution_count": 37,
   "id": "a19985c0",
   "metadata": {},
   "outputs": [
    {
     "data": {
      "text/html": [
       "<div>\n",
       "<style scoped>\n",
       "    .dataframe tbody tr th:only-of-type {\n",
       "        vertical-align: middle;\n",
       "    }\n",
       "\n",
       "    .dataframe tbody tr th {\n",
       "        vertical-align: top;\n",
       "    }\n",
       "\n",
       "    .dataframe thead th {\n",
       "        text-align: right;\n",
       "    }\n",
       "</style>\n",
       "<table border=\"1\" class=\"dataframe\">\n",
       "  <thead>\n",
       "    <tr style=\"text-align: right;\">\n",
       "      <th></th>\n",
       "      <th>PassengerId</th>\n",
       "      <th>Pclass</th>\n",
       "      <th>Name</th>\n",
       "      <th>Sex</th>\n",
       "      <th>Age</th>\n",
       "      <th>SibSp</th>\n",
       "      <th>Parch</th>\n",
       "      <th>Ticket</th>\n",
       "      <th>Fare</th>\n",
       "      <th>Embarked</th>\n",
       "      <th>Survived</th>\n",
       "    </tr>\n",
       "  </thead>\n",
       "  <tbody>\n",
       "    <tr>\n",
       "      <th>61</th>\n",
       "      <td>62</td>\n",
       "      <td>1</td>\n",
       "      <td>Icard, Miss. Amelie</td>\n",
       "      <td>female</td>\n",
       "      <td>38.0</td>\n",
       "      <td>0</td>\n",
       "      <td>0</td>\n",
       "      <td>113572</td>\n",
       "      <td>80.0</td>\n",
       "      <td>NaN</td>\n",
       "      <td>1</td>\n",
       "    </tr>\n",
       "    <tr>\n",
       "      <th>829</th>\n",
       "      <td>830</td>\n",
       "      <td>1</td>\n",
       "      <td>Stone, Mrs. George Nelson (Martha Evelyn)</td>\n",
       "      <td>female</td>\n",
       "      <td>62.0</td>\n",
       "      <td>0</td>\n",
       "      <td>0</td>\n",
       "      <td>113572</td>\n",
       "      <td>80.0</td>\n",
       "      <td>NaN</td>\n",
       "      <td>1</td>\n",
       "    </tr>\n",
       "  </tbody>\n",
       "</table>\n",
       "</div>"
      ],
      "text/plain": [
       "     PassengerId  Pclass                                       Name     Sex  \\\n",
       "61            62       1                        Icard, Miss. Amelie  female   \n",
       "829          830       1  Stone, Mrs. George Nelson (Martha Evelyn)  female   \n",
       "\n",
       "      Age  SibSp  Parch  Ticket  Fare Embarked  Survived  \n",
       "61   38.0      0      0  113572  80.0      NaN         1  \n",
       "829  62.0      0      0  113572  80.0      NaN         1  "
      ]
     },
     "execution_count": 37,
     "metadata": {},
     "output_type": "execute_result"
    }
   ],
   "source": [
    "# Procurando os dois valores nulos da coluna \"Embarked\"\n",
    "dataset_titanic.loc[pd.isnull(dataset_titanic['Embarked'])]"
   ]
  },
  {
   "cell_type": "code",
   "execution_count": 38,
   "id": "d27b0fef",
   "metadata": {},
   "outputs": [],
   "source": [
    "# Removendo os dois registros NaN\n",
    "dataset_titanic.dropna(subset=['Embarked'], inplace=True)"
   ]
  },
  {
   "cell_type": "code",
   "execution_count": 39,
   "id": "b66dda54",
   "metadata": {},
   "outputs": [
    {
     "data": {
      "text/plain": [
       "PassengerId    0\n",
       "Pclass         0\n",
       "Name           0\n",
       "Sex            0\n",
       "Age            0\n",
       "SibSp          0\n",
       "Parch          0\n",
       "Ticket         0\n",
       "Fare           0\n",
       "Embarked       0\n",
       "Survived       0\n",
       "dtype: int64"
      ]
     },
     "execution_count": 39,
     "metadata": {},
     "output_type": "execute_result"
    }
   ],
   "source": [
    "# Verificando se os valores foram removidos\n",
    "dataset_titanic.isna().sum()"
   ]
  },
  {
   "cell_type": "markdown",
   "id": "4b1ae2b0",
   "metadata": {},
   "source": [
    "## 2. Fazendo a separação dos dados em treinamento e teste"
   ]
  },
  {
   "cell_type": "code",
   "execution_count": 40,
   "id": "4561bd17",
   "metadata": {},
   "outputs": [
    {
     "data": {
      "text/html": [
       "<div>\n",
       "<style scoped>\n",
       "    .dataframe tbody tr th:only-of-type {\n",
       "        vertical-align: middle;\n",
       "    }\n",
       "\n",
       "    .dataframe tbody tr th {\n",
       "        vertical-align: top;\n",
       "    }\n",
       "\n",
       "    .dataframe thead th {\n",
       "        text-align: right;\n",
       "    }\n",
       "</style>\n",
       "<table border=\"1\" class=\"dataframe\">\n",
       "  <thead>\n",
       "    <tr style=\"text-align: right;\">\n",
       "      <th></th>\n",
       "      <th>PassengerId</th>\n",
       "      <th>Pclass</th>\n",
       "      <th>Name</th>\n",
       "      <th>Sex</th>\n",
       "      <th>Age</th>\n",
       "      <th>SibSp</th>\n",
       "      <th>Parch</th>\n",
       "      <th>Ticket</th>\n",
       "      <th>Fare</th>\n",
       "      <th>Embarked</th>\n",
       "      <th>Survived</th>\n",
       "    </tr>\n",
       "  </thead>\n",
       "  <tbody>\n",
       "    <tr>\n",
       "      <th>0</th>\n",
       "      <td>1</td>\n",
       "      <td>3</td>\n",
       "      <td>Braund, Mr. Owen Harris</td>\n",
       "      <td>male</td>\n",
       "      <td>22.0</td>\n",
       "      <td>1</td>\n",
       "      <td>0</td>\n",
       "      <td>A/5 21171</td>\n",
       "      <td>7.2500</td>\n",
       "      <td>S</td>\n",
       "      <td>0</td>\n",
       "    </tr>\n",
       "    <tr>\n",
       "      <th>1</th>\n",
       "      <td>2</td>\n",
       "      <td>1</td>\n",
       "      <td>Cumings, Mrs. John Bradley (Florence Briggs Th...</td>\n",
       "      <td>female</td>\n",
       "      <td>38.0</td>\n",
       "      <td>1</td>\n",
       "      <td>0</td>\n",
       "      <td>PC 17599</td>\n",
       "      <td>71.2833</td>\n",
       "      <td>C</td>\n",
       "      <td>1</td>\n",
       "    </tr>\n",
       "    <tr>\n",
       "      <th>2</th>\n",
       "      <td>3</td>\n",
       "      <td>3</td>\n",
       "      <td>Heikkinen, Miss. Laina</td>\n",
       "      <td>female</td>\n",
       "      <td>26.0</td>\n",
       "      <td>0</td>\n",
       "      <td>0</td>\n",
       "      <td>STON/O2. 3101282</td>\n",
       "      <td>7.9250</td>\n",
       "      <td>S</td>\n",
       "      <td>1</td>\n",
       "    </tr>\n",
       "    <tr>\n",
       "      <th>3</th>\n",
       "      <td>4</td>\n",
       "      <td>1</td>\n",
       "      <td>Futrelle, Mrs. Jacques Heath (Lily May Peel)</td>\n",
       "      <td>female</td>\n",
       "      <td>35.0</td>\n",
       "      <td>1</td>\n",
       "      <td>0</td>\n",
       "      <td>113803</td>\n",
       "      <td>53.1000</td>\n",
       "      <td>S</td>\n",
       "      <td>1</td>\n",
       "    </tr>\n",
       "    <tr>\n",
       "      <th>4</th>\n",
       "      <td>5</td>\n",
       "      <td>3</td>\n",
       "      <td>Allen, Mr. William Henry</td>\n",
       "      <td>male</td>\n",
       "      <td>35.0</td>\n",
       "      <td>0</td>\n",
       "      <td>0</td>\n",
       "      <td>373450</td>\n",
       "      <td>8.0500</td>\n",
       "      <td>S</td>\n",
       "      <td>0</td>\n",
       "    </tr>\n",
       "  </tbody>\n",
       "</table>\n",
       "</div>"
      ],
      "text/plain": [
       "   PassengerId  Pclass                                               Name  \\\n",
       "0            1       3                            Braund, Mr. Owen Harris   \n",
       "1            2       1  Cumings, Mrs. John Bradley (Florence Briggs Th...   \n",
       "2            3       3                             Heikkinen, Miss. Laina   \n",
       "3            4       1       Futrelle, Mrs. Jacques Heath (Lily May Peel)   \n",
       "4            5       3                           Allen, Mr. William Henry   \n",
       "\n",
       "      Sex   Age  SibSp  Parch            Ticket     Fare Embarked  Survived  \n",
       "0    male  22.0      1      0         A/5 21171   7.2500        S         0  \n",
       "1  female  38.0      1      0          PC 17599  71.2833        C         1  \n",
       "2  female  26.0      0      0  STON/O2. 3101282   7.9250        S         1  \n",
       "3  female  35.0      1      0            113803  53.1000        S         1  \n",
       "4    male  35.0      0      0            373450   8.0500        S         0  "
      ]
     },
     "execution_count": 40,
     "metadata": {},
     "output_type": "execute_result"
    }
   ],
   "source": [
    "# Vendo os dados\n",
    "dataset_titanic.head()"
   ]
  },
  {
   "cell_type": "code",
   "execution_count": 41,
   "id": "4c458324",
   "metadata": {},
   "outputs": [
    {
     "data": {
      "text/plain": [
       "array([[3, 'Braund, Mr. Owen Harris', 'male', ..., 'A/5 21171', 7.25,\n",
       "        'S'],\n",
       "       [1, 'Cumings, Mrs. John Bradley (Florence Briggs Thayer)',\n",
       "        'female', ..., 'PC 17599', 71.2833, 'C'],\n",
       "       [3, 'Heikkinen, Miss. Laina', 'female', ..., 'STON/O2. 3101282',\n",
       "        7.925, 'S'],\n",
       "       ...,\n",
       "       [3, 'Johnston, Miss. Catherine Helen \"Carrie\"', 'female', ...,\n",
       "        'W./C. 6607', 23.45, 'S'],\n",
       "       [1, 'Behr, Mr. Karl Howell', 'male', ..., '111369', 30.0, 'C'],\n",
       "       [3, 'Dooley, Mr. Patrick', 'male', ..., '370376', 7.75, 'Q']],\n",
       "      dtype=object)"
      ]
     },
     "execution_count": 41,
     "metadata": {},
     "output_type": "execute_result"
    }
   ],
   "source": [
    "# Criando uma variável para armazenar os valores previsores\n",
    "x_dataset_titanic = dataset_titanic.iloc[:, 1:10].values\n",
    "\n",
    "x_dataset_titanic"
   ]
  },
  {
   "cell_type": "code",
   "execution_count": 42,
   "id": "23e322f8",
   "metadata": {},
   "outputs": [
    {
     "data": {
      "text/plain": [
       "0      0\n",
       "1      1\n",
       "2      1\n",
       "3      1\n",
       "4      0\n",
       "      ..\n",
       "886    0\n",
       "887    1\n",
       "888    0\n",
       "889    1\n",
       "890    0\n",
       "Name: Survived, Length: 889, dtype: int64"
      ]
     },
     "execution_count": 42,
     "metadata": {},
     "output_type": "execute_result"
    }
   ],
   "source": [
    "# Criando uma variável para armazenar a\n",
    "y_dataset_titanic = dataset_titanic.iloc[:,10]\n",
    "\n",
    "y_dataset_titanic"
   ]
  },
  {
   "cell_type": "markdown",
   "id": "743c4a52",
   "metadata": {},
   "source": [
    "## Tratando os dados categóricos\n",
    "\n",
    "Os modelos de Machine Learning aceitam número para o treinamento e não strings, por isso que as strings da variável de treinamento devem ser tratadas. Será usado o LabelEncoder para isso."
   ]
  },
  {
   "cell_type": "code",
   "execution_count": 43,
   "id": "faa0afaf",
   "metadata": {},
   "outputs": [],
   "source": [
    "from sklearn.preprocessing import LabelEncoder"
   ]
  },
  {
   "cell_type": "code",
   "execution_count": 44,
   "id": "0527c53c",
   "metadata": {},
   "outputs": [
    {
     "data": {
      "text/plain": [
       "array([3, 'Braund, Mr. Owen Harris', 'male', 22.0, 1, 0, 'A/5 21171',\n",
       "       7.25, 'S'], dtype=object)"
      ]
     },
     "execution_count": 44,
     "metadata": {},
     "output_type": "execute_result"
    }
   ],
   "source": [
    "# Vejo a primeira linha do dataset de treinamento\n",
    "x_dataset_titanic[0]"
   ]
  },
  {
   "cell_type": "code",
   "execution_count": 45,
   "id": "b60f48b0",
   "metadata": {},
   "outputs": [],
   "source": [
    "# label Encoder pro nome\n",
    "label_encoder_nome = LabelEncoder()\n",
    "\n",
    "nome = label_encoder_nome.fit_transform(x_dataset_titanic[:,1])"
   ]
  },
  {
   "cell_type": "code",
   "execution_count": 46,
   "id": "e80ef290",
   "metadata": {},
   "outputs": [
    {
     "data": {
      "text/plain": [
       "array([108, 190, 353, 272,  15, 553, 514, 623, 411, 575, 726,  95, 728,\n",
       "        28, 838, 359, 681, 865, 837, 511, 273,  80, 522, 764, 625,  44,\n",
       "       240, 260, 604, 811, 826, 775, 289, 854, 534, 372, 504, 134, 835,\n",
       "       588,   7, 825, 445, 455, 212, 696, 472, 603, 725,  38, 628, 593,\n",
       "       333, 246, 619, 871, 706, 594, 851, 299, 748, 337, 754, 783, 559,\n",
       "       595, 185,  25, 439, 395, 300, 376, 161,  87, 545, 777, 562, 127,\n",
       "       223, 840, 736, 518, 141, 385,  52, 255, 763, 259, 149, 159,  31,\n",
       "       150, 209, 184, 739, 292, 308, 219, 421, 655, 657, 856, 404, 312,\n",
       "       541, 723, 558, 674, 551, 666, 880,  67, 416,  46, 644, 178, 824,\n",
       "        70,  24, 362, 550, 574, 846, 855, 587, 524, 498, 652, 234, 225,\n",
       "       165, 694, 849, 771, 684, 584, 271, 617, 282,  99, 596, 319, 116,\n",
       "        32, 585,  29, 254, 579, 121,  68, 642, 531, 887, 611, 864, 287,\n",
       "       181, 766, 715, 186, 845,  82, 129, 627, 293, 157, 759,  69, 485,\n",
       "       830, 679, 407, 751, 768, 443, 463, 387, 320, 473, 716, 649,  41,\n",
       "        76, 440, 699, 600, 697, 101, 821, 663, 136,  20, 578, 113, 494,\n",
       "       532, 610, 496, 879, 832, 720, 402, 876, 166, 787,  51,   9, 140,\n",
       "        94,  12, 131, 648, 288, 436, 581, 375, 389,  72, 338, 789, 105,\n",
       "       306, 580, 379,  83, 530, 491, 243, 466, 339, 459, 753,  43, 478,\n",
       "       329, 370, 172, 647, 383, 881, 566, 169, 499,  47, 538, 480, 322,\n",
       "        78, 147, 672, 788, 781, 486, 701, 817, 806, 156, 842, 635, 770,\n",
       "        42, 797, 340, 356, 673, 630, 651, 305,  91, 125, 815, 529, 576,\n",
       "       350,  33, 481, 633, 680,   2, 227, 613, 885, 221, 769, 778, 884,\n",
       "       569, 378, 177,  65,  90, 476, 315, 540, 477, 324,  17, 713,  71,\n",
       "       430, 517, 410, 427, 866,  16, 248, 646,   3, 263, 348, 709, 448,\n",
       "       355, 342, 589, 422, 554, 857, 774, 211, 200, 761, 128, 721, 875,\n",
       "       597,  60, 295, 363, 516, 636, 304, 836, 265, 210, 641, 117, 192,\n",
       "        93, 577, 258, 170, 732, 262, 111, 767, 207, 183, 215, 607, 868,\n",
       "       237,  37, 877, 833, 104, 270, 521, 544, 758, 886,  64,  40, 598,\n",
       "         5, 843, 561, 399,  48, 328, 861,  75, 689, 624, 535, 453, 860,\n",
       "        85, 314,  86, 571, 809, 373, 664, 205, 298, 118, 714, 467, 144,\n",
       "       392, 313, 582, 727, 403, 612, 523, 622, 819, 591,   6, 417, 318,\n",
       "       615, 274, 859, 686,  88, 464, 731, 343, 539, 191, 790, 527, 226,\n",
       "       741, 512, 827, 281, 155, 882, 198, 700, 870, 162, 661, 249, 662,\n",
       "        92, 808, 490, 419, 743, 143, 253, 687, 261, 446, 344, 323, 658,\n",
       "       678, 401, 216, 528, 734,  55, 660, 852, 316, 257, 290, 643, 391,\n",
       "       536, 435, 813, 602,  21, 556, 280, 537, 501, 296, 132, 765, 730,\n",
       "        54, 429, 124, 853, 400, 785, 164, 675, 107, 424, 365, 297, 268,\n",
       "       705, 823,  89, 465, 381, 434, 773, 182, 317, 869, 546,  39, 780,\n",
       "       878, 242, 737,  18, 794, 130, 133, 606, 449, 500, 645, 669, 106,\n",
       "       609, 454, 195, 847, 520, 704, 168, 841, 471, 708,  35, 640, 650,\n",
       "       839, 447, 364, 426, 244, 688, 245, 724, 366, 668, 816, 236, 653,\n",
       "       123, 341, 120, 460, 691, 266, 188,  26,  27,  73, 222, 586,  74,\n",
       "       621, 294, 203, 802, 735, 599, 462, 608, 872, 228, 692, 798, 883,\n",
       "       557, 750, 592, 745, 526, 204, 784, 626, 217, 415, 336,  36, 251,\n",
       "       431, 707, 638, 277, 744, 135, 418, 160, 803, 224, 702, 639, 796,\n",
       "       394, 267, 284, 565, 690, 782, 238, 100, 154, 828, 469, 408,  98,\n",
       "       229, 390, 760, 335, 814, 374, 482, 423, 199, 457, 740,  30, 393,\n",
       "       567, 377, 110, 357, 197, 487,  77, 279, 873, 438, 572, 327, 103,\n",
       "       792, 441, 489,  96, 601,  66, 493, 776, 634, 756, 206, 468, 173,\n",
       "       632, 807, 396, 722, 757, 252,  53, 332, 180, 746, 863, 779, 543,\n",
       "       218, 420, 605, 352, 360, 670, 102, 232, 583, 264,  57, 171, 167,\n",
       "       483, 361, 119, 698, 179, 800, 114, 202, 542, 862, 844, 231, 729,\n",
       "       822, 302, 137, 654, 345, 614, 301, 112, 456, 631, 194, 247, 497,\n",
       "       213, 425, 451, 712, 848, 153, 432, 564, 801, 382,  45, 742,  63,\n",
       "       275, 326, 555, 433, 126, 163, 560, 513, 442, 799, 458, 307, 772,\n",
       "       241, 820, 519, 409, 331, 398, 286, 368, 151, 616, 676, 506, 115,\n",
       "       386,  14, 346, 444,  84, 818, 867, 256, 475, 388, 573, 347, 148,\n",
       "       710, 525, 786, 187,   1, 747, 510, 176, 850, 548, 831, 414, 358,\n",
       "       321, 138,  58, 804, 703, 276, 590,  62, 146, 233, 369, 109, 505,\n",
       "       552, 309, 479, 397, 495, 235, 367, 568, 810, 239, 437, 693,  50,\n",
       "       214, 488, 413,  13, 330, 752, 682, 208, 310, 428, 278, 718, 380,\n",
       "       201, 620, 461, 618, 384, 829, 665, 174, 142, 805, 351, 405,  34,\n",
       "       659, 533, 152,  10, 474, 762,  23, 812, 269, 354, 503, 371, 755,\n",
       "       349, 492, 677, 549, 629, 250, 452, 502, 515, 874, 685, 711,  49,\n",
       "        19, 175, 637, 749, 158, 507,  11, 563, 733, 470, 189,   0, 719,\n",
       "       508, 334, 291,  22, 793,  97, 484, 145,   8, 858, 196,  56, 671,\n",
       "       325, 283, 795, 717, 285, 122, 230, 695, 888, 406,  59,  79, 139,\n",
       "       834,   4, 570, 311, 656, 450, 667, 738, 509, 193,  61, 791, 683,\n",
       "       547, 303, 412,  81, 220])"
      ]
     },
     "execution_count": 46,
     "metadata": {},
     "output_type": "execute_result"
    }
   ],
   "source": [
    "nome"
   ]
  },
  {
   "cell_type": "code",
   "execution_count": 47,
   "id": "563aadcd",
   "metadata": {},
   "outputs": [],
   "source": [
    "# Label Encoder para o gênero\n",
    "label_encoder_genero = LabelEncoder()\n",
    "\n",
    "genero = label_encoder_genero.fit_transform(x_dataset_titanic[:,2])"
   ]
  },
  {
   "cell_type": "code",
   "execution_count": 48,
   "id": "7ee35772",
   "metadata": {},
   "outputs": [
    {
     "data": {
      "text/plain": [
       "array(['male', 'female'], dtype=object)"
      ]
     },
     "execution_count": 48,
     "metadata": {},
     "output_type": "execute_result"
    }
   ],
   "source": [
    "# Comparar essa coluna com a coluna com Label Encoder\n",
    "x_dataset_titanic[:2, 2]"
   ]
  },
  {
   "cell_type": "code",
   "execution_count": 49,
   "id": "8728358a",
   "metadata": {},
   "outputs": [
    {
     "data": {
      "text/plain": [
       "array([1, 0])"
      ]
     },
     "execution_count": 49,
     "metadata": {},
     "output_type": "execute_result"
    }
   ],
   "source": [
    "genero[:2]"
   ]
  },
  {
   "cell_type": "code",
   "execution_count": 50,
   "id": "107d53b4",
   "metadata": {},
   "outputs": [],
   "source": [
    "# Label Encoder para o Ticket\n",
    "\n",
    "label_encoder_ticket = LabelEncoder()\n",
    "\n",
    "ticket = label_encoder_ticket.fit_transform(x_dataset_titanic[:,6])"
   ]
  },
  {
   "cell_type": "code",
   "execution_count": 51,
   "id": "aacbc325",
   "metadata": {},
   "outputs": [
    {
     "data": {
      "text/plain": [
       "(array(['A/5 21171', 'PC 17599', 'STON/O2. 3101282', '113803', '373450',\n",
       "        '330877', '17463', '349909', '347742', '237736'], dtype=object),\n",
       " array([522, 595, 668,  48, 471, 274,  84, 394, 343, 131]))"
      ]
     },
     "execution_count": 51,
     "metadata": {},
     "output_type": "execute_result"
    }
   ],
   "source": [
    "x_dataset_titanic[:10,6], ticket[:10]"
   ]
  },
  {
   "cell_type": "code",
   "execution_count": 52,
   "id": "73ba8a0e",
   "metadata": {},
   "outputs": [],
   "source": [
    "# Label Encoder para Embarked\n",
    "\n",
    "label_encoder_embarked = LabelEncoder()\n",
    "\n",
    "embarked = label_encoder_embarked.fit_transform(x_dataset_titanic[:, 8])"
   ]
  },
  {
   "cell_type": "code",
   "execution_count": 53,
   "id": "323d034f",
   "metadata": {},
   "outputs": [
    {
     "data": {
      "text/plain": [
       "(array([2, 0, 2, 2, 2, 1, 2, 2, 2, 0]),\n",
       " array(['S', 'C', 'S', 'S', 'S', 'Q', 'S', 'S', 'S', 'C'], dtype=object))"
      ]
     },
     "execution_count": 53,
     "metadata": {},
     "output_type": "execute_result"
    }
   ],
   "source": [
    "embarked[:10], x_dataset_titanic[:10, 8]"
   ]
  },
  {
   "cell_type": "code",
   "execution_count": 54,
   "id": "597595be",
   "metadata": {},
   "outputs": [],
   "source": [
    "# Agora será feito a substituição dos dados categóricos pelos dados transformados\n",
    "\n",
    "x_dataset_titanic[:, 1] = nome\n",
    "x_dataset_titanic[:, 2] = genero\n",
    "x_dataset_titanic[:, 6] = ticket\n",
    "x_dataset_titanic[:, 8] = embarked"
   ]
  },
  {
   "cell_type": "code",
   "execution_count": 55,
   "id": "858d794d",
   "metadata": {},
   "outputs": [
    {
     "data": {
      "text/plain": [
       "array([[3, 108, 1, 22.0, 1, 0, 522, 7.25, 2],\n",
       "       [1, 190, 0, 38.0, 1, 0, 595, 71.2833, 0],\n",
       "       [3, 353, 0, 26.0, 0, 0, 668, 7.925, 2],\n",
       "       [1, 272, 0, 35.0, 1, 0, 48, 53.1, 2],\n",
       "       [3, 15, 1, 35.0, 0, 0, 471, 8.05, 2],\n",
       "       [3, 553, 1, 29.69911764705882, 0, 0, 274, 8.4583, 1],\n",
       "       [1, 514, 1, 54.0, 0, 0, 84, 51.8625, 2],\n",
       "       [3, 623, 1, 2.0, 3, 1, 394, 21.075, 2],\n",
       "       [3, 411, 0, 27.0, 0, 2, 343, 11.1333, 2],\n",
       "       [2, 575, 0, 14.0, 1, 0, 131, 30.0708, 0],\n",
       "       [3, 726, 0, 4.0, 1, 1, 615, 16.7, 2],\n",
       "       [1, 95, 0, 58.0, 0, 0, 37, 26.55, 2],\n",
       "       [3, 728, 1, 20.0, 0, 0, 534, 8.05, 2],\n",
       "       [3, 28, 1, 39.0, 1, 5, 332, 31.275, 2],\n",
       "       [3, 838, 0, 14.0, 0, 0, 412, 7.8542, 2],\n",
       "       [2, 359, 0, 55.0, 0, 0, 152, 16.0, 2],\n",
       "       [3, 681, 1, 2.0, 4, 1, 479, 29.125, 1],\n",
       "       [2, 865, 1, 29.69911764705882, 0, 0, 150, 13.0, 2],\n",
       "       [3, 837, 0, 31.0, 1, 0, 300, 18.0, 2],\n",
       "       [3, 511, 0, 29.69911764705882, 0, 0, 183, 7.225, 0]], dtype=object)"
      ]
     },
     "execution_count": 55,
     "metadata": {},
     "output_type": "execute_result"
    }
   ],
   "source": [
    "# Verificando se foi feito a alteração\n",
    "x_dataset_titanic[:20,]"
   ]
  },
  {
   "cell_type": "markdown",
   "id": "68c328d5",
   "metadata": {},
   "source": [
    "## 3. Fazendo o escalonamento dos dados\n",
    "\n",
    "Números grandes influenciam muito em comparação com número pequenos, por causa disso o modelo pode achar que uma variável possa ser mais importante que a outra, não necessariamente é importante fazer o escalonamento, por isso será feito o treinamento com e escalonamento, nesse tópico será feito o escalonamento."
   ]
  },
  {
   "cell_type": "code",
   "execution_count": 40,
   "id": "f18fc2bf",
   "metadata": {},
   "outputs": [],
   "source": [
    "from sklearn.preprocessing import StandardScaler"
   ]
  },
  {
   "cell_type": "code",
   "execution_count": 41,
   "id": "0961a6eb",
   "metadata": {},
   "outputs": [],
   "source": [
    "# Fazendo o escalonamento e atribuindo no dataset\n",
    "scaler_x_dataset_titanic = StandardScaler()\n",
    "x_dataset_titanic = scaler_x_dataset_titanic.fit_transform(x_dataset_titanic)"
   ]
  },
  {
   "cell_type": "code",
   "execution_count": 42,
   "id": "6e43fbc0",
   "metadata": {},
   "outputs": [
    {
     "data": {
      "text/plain": [
       "array([[ 0.82520863, -1.30926758,  0.73534203, ...,  0.91701764,\n",
       "        -0.50023975,  0.58683958],\n",
       "       [-1.57221121, -0.98974394, -1.35991138, ...,  1.28135338,\n",
       "         0.78894661, -1.93955453],\n",
       "       [ 0.82520863, -0.3545933 , -1.35991138, ...,  1.64568912,\n",
       "        -0.48664993,  0.58683958],\n",
       "       ...,\n",
       "       [ 0.82520863, -0.12469215, -1.35991138, ...,  1.67563453,\n",
       "        -0.17408416,  0.58683958],\n",
       "       [-1.57221121, -1.41447658,  0.73534203, ..., -1.64830528,\n",
       "        -0.0422126 , -1.93955453],\n",
       "       [ 0.82520863, -0.87284505,  0.73534203, ...,  0.6325363 ,\n",
       "        -0.49017322, -0.67635748]])"
      ]
     },
     "execution_count": 42,
     "metadata": {},
     "output_type": "execute_result"
    }
   ],
   "source": [
    "# Verificando o escalonamento\n",
    "x_dataset_titanic"
   ]
  },
  {
   "cell_type": "code",
   "execution_count": 43,
   "id": "a7e01047",
   "metadata": {},
   "outputs": [
    {
     "data": {
      "text/plain": [
       "0      0\n",
       "1      1\n",
       "2      1\n",
       "3      1\n",
       "4      0\n",
       "      ..\n",
       "886    0\n",
       "887    1\n",
       "888    0\n",
       "889    1\n",
       "890    0\n",
       "Name: Survived, Length: 889, dtype: int64"
      ]
     },
     "execution_count": 43,
     "metadata": {},
     "output_type": "execute_result"
    }
   ],
   "source": [
    "y_dataset_titanic"
   ]
  },
  {
   "cell_type": "markdown",
   "id": "fcf8744e",
   "metadata": {},
   "source": [
    "## 4. Dividindo o dataset em treinamento e teste para o modelo"
   ]
  },
  {
   "cell_type": "code",
   "execution_count": 44,
   "id": "71b620d6",
   "metadata": {},
   "outputs": [],
   "source": [
    "from sklearn.model_selection import train_test_split"
   ]
  },
  {
   "cell_type": "code",
   "execution_count": 50,
   "id": "46445505",
   "metadata": {},
   "outputs": [],
   "source": [
    "# Separando o dataset em treino e teste\n",
    "x_treino, x_teste, y_treino, y_teste = train_test_split(x_dataset_titanic, y_dataset_titanic, test_size=0.3, random_state=0)"
   ]
  },
  {
   "cell_type": "code",
   "execution_count": 51,
   "id": "25bdb8ab",
   "metadata": {},
   "outputs": [
    {
     "data": {
      "text/plain": [
       "((622, 9), (622,))"
      ]
     },
     "execution_count": 51,
     "metadata": {},
     "output_type": "execute_result"
    }
   ],
   "source": [
    "x_treino.shape, y_treino.shape"
   ]
  },
  {
   "cell_type": "code",
   "execution_count": 52,
   "id": "4697d825",
   "metadata": {},
   "outputs": [
    {
     "data": {
      "text/plain": [
       "((267, 9), (267,))"
      ]
     },
     "execution_count": 52,
     "metadata": {},
     "output_type": "execute_result"
    }
   ],
   "source": [
    "x_teste.shape, y_teste.shape"
   ]
  },
  {
   "cell_type": "markdown",
   "id": "e5da3759",
   "metadata": {},
   "source": [
    "## 4.1 Salvar os datasets de treino e teste\n",
    "\n",
    "Para não rodar várias vezes e ter separação diferentes, será usado a biblioteca pickle para salvar os dados e os usar depois para o treinamento"
   ]
  },
  {
   "cell_type": "code",
   "execution_count": 53,
   "id": "edc1e414",
   "metadata": {},
   "outputs": [],
   "source": [
    "import pickle"
   ]
  },
  {
   "cell_type": "code",
   "execution_count": 54,
   "id": "0656d49b",
   "metadata": {},
   "outputs": [],
   "source": [
    "# Cria arquivos e salva os dados\n",
    "with open(\"titanic.pkl\", mode='wb') as f:\n",
    "    pickle.dump([x_treino, x_teste, y_treino, y_teste], f)"
   ]
  },
  {
   "cell_type": "markdown",
   "id": "5886b3bf",
   "metadata": {},
   "source": [
    "## 5. Usando o algoritmo Naive Bayes para o aprendizado de máquina"
   ]
  },
  {
   "cell_type": "code",
   "execution_count": 2,
   "id": "96a2118c",
   "metadata": {},
   "outputs": [],
   "source": [
    "from sklearn.naive_bayes import GaussianNB\n",
    "import pickle"
   ]
  },
  {
   "cell_type": "markdown",
   "id": "89845a38",
   "metadata": {},
   "source": [
    "Essa biblioteca é onde está o Naive Bayes, um dos algortimos que será usado nesse notebook\n",
    "\n",
    "Como os datasets foram salvos como arquivo pkl, então será necessário abri-lo."
   ]
  },
  {
   "cell_type": "code",
   "execution_count": 3,
   "id": "9fc8a590",
   "metadata": {},
   "outputs": [],
   "source": [
    "# Abrindo o arquivo\n",
    "with open(\"titanic.pkl\", 'rb') as f:\n",
    "    x_treino, x_teste, y_treino, y_teste = pickle.load(f)"
   ]
  },
  {
   "cell_type": "code",
   "execution_count": 4,
   "id": "ceaccad6",
   "metadata": {},
   "outputs": [
    {
     "data": {
      "text/plain": [
       "((622, 9), (622,))"
      ]
     },
     "execution_count": 4,
     "metadata": {},
     "output_type": "execute_result"
    }
   ],
   "source": [
    "# Verificando as formas dos dados de treino\n",
    "x_treino.shape, y_treino.shape"
   ]
  },
  {
   "cell_type": "code",
   "execution_count": 6,
   "id": "356a4531",
   "metadata": {},
   "outputs": [
    {
     "data": {
      "text/plain": [
       "((267, 9), (267,))"
      ]
     },
     "execution_count": 6,
     "metadata": {},
     "output_type": "execute_result"
    }
   ],
   "source": [
    "# Verificando as formaas dos dados de teste\n",
    "x_teste.shape, y_teste.shape"
   ]
  },
  {
   "cell_type": "code",
   "execution_count": 7,
   "id": "102a5755",
   "metadata": {},
   "outputs": [
    {
     "data": {
      "text/html": [
       "<style>#sk-container-id-1 {color: black;background-color: white;}#sk-container-id-1 pre{padding: 0;}#sk-container-id-1 div.sk-toggleable {background-color: white;}#sk-container-id-1 label.sk-toggleable__label {cursor: pointer;display: block;width: 100%;margin-bottom: 0;padding: 0.3em;box-sizing: border-box;text-align: center;}#sk-container-id-1 label.sk-toggleable__label-arrow:before {content: \"▸\";float: left;margin-right: 0.25em;color: #696969;}#sk-container-id-1 label.sk-toggleable__label-arrow:hover:before {color: black;}#sk-container-id-1 div.sk-estimator:hover label.sk-toggleable__label-arrow:before {color: black;}#sk-container-id-1 div.sk-toggleable__content {max-height: 0;max-width: 0;overflow: hidden;text-align: left;background-color: #f0f8ff;}#sk-container-id-1 div.sk-toggleable__content pre {margin: 0.2em;color: black;border-radius: 0.25em;background-color: #f0f8ff;}#sk-container-id-1 input.sk-toggleable__control:checked~div.sk-toggleable__content {max-height: 200px;max-width: 100%;overflow: auto;}#sk-container-id-1 input.sk-toggleable__control:checked~label.sk-toggleable__label-arrow:before {content: \"▾\";}#sk-container-id-1 div.sk-estimator input.sk-toggleable__control:checked~label.sk-toggleable__label {background-color: #d4ebff;}#sk-container-id-1 div.sk-label input.sk-toggleable__control:checked~label.sk-toggleable__label {background-color: #d4ebff;}#sk-container-id-1 input.sk-hidden--visually {border: 0;clip: rect(1px 1px 1px 1px);clip: rect(1px, 1px, 1px, 1px);height: 1px;margin: -1px;overflow: hidden;padding: 0;position: absolute;width: 1px;}#sk-container-id-1 div.sk-estimator {font-family: monospace;background-color: #f0f8ff;border: 1px dotted black;border-radius: 0.25em;box-sizing: border-box;margin-bottom: 0.5em;}#sk-container-id-1 div.sk-estimator:hover {background-color: #d4ebff;}#sk-container-id-1 div.sk-parallel-item::after {content: \"\";width: 100%;border-bottom: 1px solid gray;flex-grow: 1;}#sk-container-id-1 div.sk-label:hover label.sk-toggleable__label {background-color: #d4ebff;}#sk-container-id-1 div.sk-serial::before {content: \"\";position: absolute;border-left: 1px solid gray;box-sizing: border-box;top: 0;bottom: 0;left: 50%;z-index: 0;}#sk-container-id-1 div.sk-serial {display: flex;flex-direction: column;align-items: center;background-color: white;padding-right: 0.2em;padding-left: 0.2em;position: relative;}#sk-container-id-1 div.sk-item {position: relative;z-index: 1;}#sk-container-id-1 div.sk-parallel {display: flex;align-items: stretch;justify-content: center;background-color: white;position: relative;}#sk-container-id-1 div.sk-item::before, #sk-container-id-1 div.sk-parallel-item::before {content: \"\";position: absolute;border-left: 1px solid gray;box-sizing: border-box;top: 0;bottom: 0;left: 50%;z-index: -1;}#sk-container-id-1 div.sk-parallel-item {display: flex;flex-direction: column;z-index: 1;position: relative;background-color: white;}#sk-container-id-1 div.sk-parallel-item:first-child::after {align-self: flex-end;width: 50%;}#sk-container-id-1 div.sk-parallel-item:last-child::after {align-self: flex-start;width: 50%;}#sk-container-id-1 div.sk-parallel-item:only-child::after {width: 0;}#sk-container-id-1 div.sk-dashed-wrapped {border: 1px dashed gray;margin: 0 0.4em 0.5em 0.4em;box-sizing: border-box;padding-bottom: 0.4em;background-color: white;}#sk-container-id-1 div.sk-label label {font-family: monospace;font-weight: bold;display: inline-block;line-height: 1.2em;}#sk-container-id-1 div.sk-label-container {text-align: center;}#sk-container-id-1 div.sk-container {/* jupyter's `normalize.less` sets `[hidden] { display: none; }` but bootstrap.min.css set `[hidden] { display: none !important; }` so we also need the `!important` here to be able to override the default hidden behavior on the sphinx rendered scikit-learn.org. See: https://github.com/scikit-learn/scikit-learn/issues/21755 */display: inline-block !important;position: relative;}#sk-container-id-1 div.sk-text-repr-fallback {display: none;}</style><div id=\"sk-container-id-1\" class=\"sk-top-container\"><div class=\"sk-text-repr-fallback\"><pre>GaussianNB()</pre><b>In a Jupyter environment, please rerun this cell to show the HTML representation or trust the notebook. <br />On GitHub, the HTML representation is unable to render, please try loading this page with nbviewer.org.</b></div><div class=\"sk-container\" hidden><div class=\"sk-item\"><div class=\"sk-estimator sk-toggleable\"><input class=\"sk-toggleable__control sk-hidden--visually\" id=\"sk-estimator-id-1\" type=\"checkbox\" checked><label for=\"sk-estimator-id-1\" class=\"sk-toggleable__label sk-toggleable__label-arrow\">GaussianNB</label><div class=\"sk-toggleable__content\"><pre>GaussianNB()</pre></div></div></div></div></div>"
      ],
      "text/plain": [
       "GaussianNB()"
      ]
     },
     "execution_count": 7,
     "metadata": {},
     "output_type": "execute_result"
    }
   ],
   "source": [
    "# Fazendo o treinamento\n",
    "naive_bayes_titanic = GaussianNB()\n",
    "\n",
    "# Passo os dados de treino para a função \n",
    "naive_bayes_titanic.fit(x_treino, y_treino)"
   ]
  },
  {
   "cell_type": "code",
   "execution_count": 8,
   "id": "b842e79a",
   "metadata": {},
   "outputs": [
    {
     "data": {
      "text/plain": [
       "array([1, 0, 1, 1, 0, 1, 0, 0, 1, 0, 0, 1, 1, 0, 1, 0, 1, 0, 0, 1, 1, 1,\n",
       "       0, 0, 0, 0, 1, 0, 0, 0, 0, 1, 0, 1, 0, 0, 0, 0, 0, 0, 1, 0, 1, 0,\n",
       "       1, 0, 0, 0, 0, 0, 0, 0, 0, 1, 0, 1, 1, 1, 0, 0, 1, 0, 1, 0, 0, 0,\n",
       "       1, 1, 0, 1, 1, 0, 0, 1, 1, 0, 0, 0, 1, 0, 0, 1, 1, 1, 1, 1, 0, 0,\n",
       "       0, 0, 0, 1, 1, 0, 0, 1, 1, 1, 0, 1, 0, 1, 0, 1, 0, 1, 0, 0, 0, 1,\n",
       "       1, 1, 0, 1, 0, 1, 0, 0, 0, 0, 0, 0, 0, 1, 0, 0, 0, 0, 0, 0, 0, 0,\n",
       "       1, 0, 0, 1, 1, 1, 1, 0, 0, 0, 1, 1, 1, 0, 0, 0, 0, 0, 0, 0, 1, 0,\n",
       "       0, 0, 1, 1, 1, 0, 0, 0, 1, 0, 0, 1, 0, 1, 0, 1, 0, 0, 0, 0, 0, 0,\n",
       "       1, 1, 0, 1, 0, 1, 1, 0, 0, 0, 0, 1, 1, 0, 0, 0, 0, 1, 0, 0, 0, 0,\n",
       "       0, 0, 1, 1, 1, 0, 0, 1, 0, 1, 0, 0, 1, 1, 1, 1, 1, 0, 1, 0, 0, 1,\n",
       "       1, 0, 1, 1, 0, 1, 0, 0, 1, 1, 1, 0, 0, 0, 0, 1, 1, 0, 0, 0, 0, 1,\n",
       "       1, 1, 0, 0, 1, 0, 1, 1, 0, 0, 1, 0, 1, 1, 0, 0, 0, 0, 1, 1, 0, 0,\n",
       "       0, 0, 1], dtype=int64)"
      ]
     },
     "execution_count": 8,
     "metadata": {},
     "output_type": "execute_result"
    }
   ],
   "source": [
    "# Fazendo as previsões \n",
    "previsoes = naive_bayes_titanic.predict(x_teste)\n",
    "previsoes"
   ]
  },
  {
   "cell_type": "code",
   "execution_count": 9,
   "id": "eec2df9e",
   "metadata": {},
   "outputs": [
    {
     "data": {
      "text/plain": [
       "14     0\n",
       "159    0\n",
       "763    1\n",
       "741    0\n",
       "483    1\n",
       "      ..\n",
       "620    0\n",
       "821    1\n",
       "65     1\n",
       "884    0\n",
       "52     1\n",
       "Name: Survived, Length: 267, dtype: int64"
      ]
     },
     "execution_count": 9,
     "metadata": {},
     "output_type": "execute_result"
    }
   ],
   "source": [
    "# trazendo o y_teste para comparação\n",
    "y_teste"
   ]
  },
  {
   "cell_type": "markdown",
   "id": "8ea22dd5",
   "metadata": {},
   "source": [
    "## 6. Verificando a precisão do modelo usando o Naive Bayes"
   ]
  },
  {
   "cell_type": "code",
   "execution_count": 17,
   "id": "84cf01f9",
   "metadata": {},
   "outputs": [
    {
     "data": {
      "text/plain": [
       "0.7677902621722846"
      ]
     },
     "execution_count": 17,
     "metadata": {},
     "output_type": "execute_result"
    }
   ],
   "source": [
    "# Verificando a acurácia (acerto) do modelo\n",
    "from sklearn.metrics import accuracy_score, classification_report\n",
    "accuracy_score(y_teste, previsoes)"
   ]
  },
  {
   "cell_type": "code",
   "execution_count": 12,
   "id": "e9cc709f",
   "metadata": {},
   "outputs": [],
   "source": [
    "#!pip -q install yellowbrick\n",
    "# para baixar a biblioteca yellowbrick"
   ]
  },
  {
   "cell_type": "code",
   "execution_count": 13,
   "id": "52d8574e",
   "metadata": {},
   "outputs": [],
   "source": [
    "# Gerando uma matrix de confusão para o entendimento dos dados\n",
    "from yellowbrick.classifier import ConfusionMatrix"
   ]
  },
  {
   "cell_type": "code",
   "execution_count": 15,
   "id": "f5110796",
   "metadata": {},
   "outputs": [
    {
     "data": {
      "text/plain": [
       "0.7677902621722846"
      ]
     },
     "execution_count": 15,
     "metadata": {},
     "output_type": "execute_result"
    },
    {
     "data": {
      "image/png": "[encoded data removed]",
      "text/plain": [
       "<Figure size 576x396 with 1 Axes>"
      ]
     },
     "metadata": {},
     "output_type": "display_data"
    }
   ],
   "source": [
    "cm = ConfusionMatrix(naive_bayes_titanic)\n",
    "cm.fit(x_treino, y_treino)\n",
    "cm.score(x_teste, y_teste)"
   ]
  },
  {
   "cell_type": "code",
   "execution_count": 19,
   "id": "7342ca7b",
   "metadata": {},
   "outputs": [
    {
     "name": "stdout",
     "output_type": "stream",
     "text": [
      "              precision    recall  f1-score   support\n",
      "\n",
      "           0       0.80      0.81      0.80       157\n",
      "           1       0.72      0.71      0.72       110\n",
      "\n",
      "    accuracy                           0.77       267\n",
      "   macro avg       0.76      0.76      0.76       267\n",
      "weighted avg       0.77      0.77      0.77       267\n",
      "\n"
     ]
    }
   ],
   "source": [
    "print(classification_report(y_teste, previsoes))\n",
    "\n",
    "# 0 é não e 1 é sim"
   ]
  },
  {
   "cell_type": "markdown",
   "id": "d2b9b124",
   "metadata": {},
   "source": [
    "## 7. Resultados - Naive Bayes - 76.78%\n",
    "\n",
    "Com o algoritmo de Naive Bayes foi possível fazer a previsões e obter cerca de 76.78% de precisão, é uma porcentagem razoavelmente boa, mas ainda dá para melhorar com outros algortimos"
   ]
  },
  {
   "cell_type": "markdown",
   "id": "32d45ddb",
   "metadata": {},
   "source": [
    "## Testando o algoritmo sem o escalonamento dos dados\n",
    "\n",
    "Agora será feito o treinamento do modelo sem fazer o escalonamento."
   ]
  },
  {
   "cell_type": "markdown",
   "id": "733fff4f",
   "metadata": {},
   "source": [
    "### Dividindo os dados em treino e teste"
   ]
  },
  {
   "cell_type": "code",
   "execution_count": 56,
   "id": "6068ddb9",
   "metadata": {},
   "outputs": [],
   "source": [
    "from sklearn.model_selection import train_test_split"
   ]
  },
  {
   "cell_type": "code",
   "execution_count": 58,
   "id": "1fb1e2ae",
   "metadata": {},
   "outputs": [],
   "source": [
    "# Separando o dataset em treino e teste\n",
    "x_treino_v2, x_teste_v2, y_treino_v2, y_teste_v2 = train_test_split(x_dataset_titanic, y_dataset_titanic, test_size=0.3, random_state=0)"
   ]
  },
  {
   "cell_type": "code",
   "execution_count": 60,
   "id": "236b3ce1",
   "metadata": {},
   "outputs": [
    {
     "data": {
      "text/plain": [
       "((622, 9), (622,))"
      ]
     },
     "execution_count": 60,
     "metadata": {},
     "output_type": "execute_result"
    }
   ],
   "source": [
    "# Verificando as formas dos dados de treino\n",
    "x_treino_v2.shape, y_treino_v2.shape"
   ]
  },
  {
   "cell_type": "code",
   "execution_count": 61,
   "id": "fb941c75",
   "metadata": {},
   "outputs": [
    {
     "data": {
      "text/plain": [
       "((267, 9), (267,))"
      ]
     },
     "execution_count": 61,
     "metadata": {},
     "output_type": "execute_result"
    }
   ],
   "source": [
    "# Verificando as formas dos dados de teste\n",
    "x_teste_v2.shape, y_teste_v2.shape"
   ]
  },
  {
   "cell_type": "markdown",
   "id": "b4c9e219",
   "metadata": {},
   "source": [
    "### Salvando os dados de treino e teste"
   ]
  },
  {
   "cell_type": "code",
   "execution_count": 62,
   "id": "d1f53c2e",
   "metadata": {},
   "outputs": [],
   "source": [
    "import pickle"
   ]
  },
  {
   "cell_type": "code",
   "execution_count": 63,
   "id": "d0094e26",
   "metadata": {},
   "outputs": [],
   "source": [
    "with open(\"titanicSemEscalonamento.pkl\", 'wb') as f:\n",
    "    pickle.dump([x_treino_v2, x_teste_v2, y_treino_v2, y_teste_v2], f)"
   ]
  },
  {
   "cell_type": "markdown",
   "id": "39b92177",
   "metadata": {},
   "source": [
    "### Utilizando o Naive Bayes novamente para o treinamento"
   ]
  },
  {
   "cell_type": "code",
   "execution_count": 64,
   "id": "776ab8cf",
   "metadata": {},
   "outputs": [],
   "source": [
    "import pickle\n",
    "from sklearn.naive_bayes import GaussianNB"
   ]
  },
  {
   "cell_type": "code",
   "execution_count": 65,
   "id": "16bc0a6a",
   "metadata": {},
   "outputs": [],
   "source": [
    "# Pegando os arquivos salvos\n",
    "with open(\"titanicSemEscalonamento.pkl\", 'rb') as f:\n",
    "    X_treino_v2, X_teste_v2, Y_treino_v2, Y_teste_v2 = pickle.load(f)"
   ]
  },
  {
   "cell_type": "code",
   "execution_count": 66,
   "id": "77c7cd4e",
   "metadata": {},
   "outputs": [
    {
     "data": {
      "text/plain": [
       "((622, 9), (622,))"
      ]
     },
     "execution_count": 66,
     "metadata": {},
     "output_type": "execute_result"
    }
   ],
   "source": [
    "X_treino_v2.shape, Y_treino_v2.shape"
   ]
  },
  {
   "cell_type": "code",
   "execution_count": 67,
   "id": "39dac5ba",
   "metadata": {},
   "outputs": [
    {
     "data": {
      "text/plain": [
       "((267, 9), (267,))"
      ]
     },
     "execution_count": 67,
     "metadata": {},
     "output_type": "execute_result"
    }
   ],
   "source": [
    "X_teste_v2.shape, Y_teste_v2.shape"
   ]
  },
  {
   "cell_type": "code",
   "execution_count": 68,
   "id": "ce5016a4",
   "metadata": {},
   "outputs": [
    {
     "data": {
      "text/html": [
       "<style>#sk-container-id-2 {color: black;background-color: white;}#sk-container-id-2 pre{padding: 0;}#sk-container-id-2 div.sk-toggleable {background-color: white;}#sk-container-id-2 label.sk-toggleable__label {cursor: pointer;display: block;width: 100%;margin-bottom: 0;padding: 0.3em;box-sizing: border-box;text-align: center;}#sk-container-id-2 label.sk-toggleable__label-arrow:before {content: \"▸\";float: left;margin-right: 0.25em;color: #696969;}#sk-container-id-2 label.sk-toggleable__label-arrow:hover:before {color: black;}#sk-container-id-2 div.sk-estimator:hover label.sk-toggleable__label-arrow:before {color: black;}#sk-container-id-2 div.sk-toggleable__content {max-height: 0;max-width: 0;overflow: hidden;text-align: left;background-color: #f0f8ff;}#sk-container-id-2 div.sk-toggleable__content pre {margin: 0.2em;color: black;border-radius: 0.25em;background-color: #f0f8ff;}#sk-container-id-2 input.sk-toggleable__control:checked~div.sk-toggleable__content {max-height: 200px;max-width: 100%;overflow: auto;}#sk-container-id-2 input.sk-toggleable__control:checked~label.sk-toggleable__label-arrow:before {content: \"▾\";}#sk-container-id-2 div.sk-estimator input.sk-toggleable__control:checked~label.sk-toggleable__label {background-color: #d4ebff;}#sk-container-id-2 div.sk-label input.sk-toggleable__control:checked~label.sk-toggleable__label {background-color: #d4ebff;}#sk-container-id-2 input.sk-hidden--visually {border: 0;clip: rect(1px 1px 1px 1px);clip: rect(1px, 1px, 1px, 1px);height: 1px;margin: -1px;overflow: hidden;padding: 0;position: absolute;width: 1px;}#sk-container-id-2 div.sk-estimator {font-family: monospace;background-color: #f0f8ff;border: 1px dotted black;border-radius: 0.25em;box-sizing: border-box;margin-bottom: 0.5em;}#sk-container-id-2 div.sk-estimator:hover {background-color: #d4ebff;}#sk-container-id-2 div.sk-parallel-item::after {content: \"\";width: 100%;border-bottom: 1px solid gray;flex-grow: 1;}#sk-container-id-2 div.sk-label:hover label.sk-toggleable__label {background-color: #d4ebff;}#sk-container-id-2 div.sk-serial::before {content: \"\";position: absolute;border-left: 1px solid gray;box-sizing: border-box;top: 0;bottom: 0;left: 50%;z-index: 0;}#sk-container-id-2 div.sk-serial {display: flex;flex-direction: column;align-items: center;background-color: white;padding-right: 0.2em;padding-left: 0.2em;position: relative;}#sk-container-id-2 div.sk-item {position: relative;z-index: 1;}#sk-container-id-2 div.sk-parallel {display: flex;align-items: stretch;justify-content: center;background-color: white;position: relative;}#sk-container-id-2 div.sk-item::before, #sk-container-id-2 div.sk-parallel-item::before {content: \"\";position: absolute;border-left: 1px solid gray;box-sizing: border-box;top: 0;bottom: 0;left: 50%;z-index: -1;}#sk-container-id-2 div.sk-parallel-item {display: flex;flex-direction: column;z-index: 1;position: relative;background-color: white;}#sk-container-id-2 div.sk-parallel-item:first-child::after {align-self: flex-end;width: 50%;}#sk-container-id-2 div.sk-parallel-item:last-child::after {align-self: flex-start;width: 50%;}#sk-container-id-2 div.sk-parallel-item:only-child::after {width: 0;}#sk-container-id-2 div.sk-dashed-wrapped {border: 1px dashed gray;margin: 0 0.4em 0.5em 0.4em;box-sizing: border-box;padding-bottom: 0.4em;background-color: white;}#sk-container-id-2 div.sk-label label {font-family: monospace;font-weight: bold;display: inline-block;line-height: 1.2em;}#sk-container-id-2 div.sk-label-container {text-align: center;}#sk-container-id-2 div.sk-container {/* jupyter's `normalize.less` sets `[hidden] { display: none; }` but bootstrap.min.css set `[hidden] { display: none !important; }` so we also need the `!important` here to be able to override the default hidden behavior on the sphinx rendered scikit-learn.org. See: https://github.com/scikit-learn/scikit-learn/issues/21755 */display: inline-block !important;position: relative;}#sk-container-id-2 div.sk-text-repr-fallback {display: none;}</style><div id=\"sk-container-id-2\" class=\"sk-top-container\"><div class=\"sk-text-repr-fallback\"><pre>GaussianNB()</pre><b>In a Jupyter environment, please rerun this cell to show the HTML representation or trust the notebook. <br />On GitHub, the HTML representation is unable to render, please try loading this page with nbviewer.org.</b></div><div class=\"sk-container\" hidden><div class=\"sk-item\"><div class=\"sk-estimator sk-toggleable\"><input class=\"sk-toggleable__control sk-hidden--visually\" id=\"sk-estimator-id-2\" type=\"checkbox\" checked><label for=\"sk-estimator-id-2\" class=\"sk-toggleable__label sk-toggleable__label-arrow\">GaussianNB</label><div class=\"sk-toggleable__content\"><pre>GaussianNB()</pre></div></div></div></div></div>"
      ],
      "text/plain": [
       "GaussianNB()"
      ]
     },
     "execution_count": 68,
     "metadata": {},
     "output_type": "execute_result"
    }
   ],
   "source": [
    "# Fazendo o treinamento\n",
    "naive_titanic_sem_escalonamento = GaussianNB()\n",
    "naive_titanic_sem_escalonamento.fit(X_treino_v2, Y_treino_v2)"
   ]
  },
  {
   "cell_type": "code",
   "execution_count": 69,
   "id": "f2861594",
   "metadata": {},
   "outputs": [
    {
     "data": {
      "text/plain": [
       "array([1, 0, 1, 1, 0, 1, 0, 0, 1, 0, 0, 1, 1, 0, 1, 0, 1, 0, 0, 1, 1, 1,\n",
       "       0, 0, 0, 0, 1, 0, 0, 0, 0, 1, 0, 1, 0, 0, 0, 0, 0, 0, 1, 0, 1, 0,\n",
       "       1, 0, 0, 0, 0, 0, 0, 0, 0, 1, 0, 1, 1, 1, 0, 0, 1, 0, 1, 0, 0, 0,\n",
       "       1, 1, 0, 1, 1, 0, 0, 1, 1, 0, 0, 0, 1, 0, 0, 1, 1, 1, 1, 1, 0, 0,\n",
       "       0, 0, 0, 1, 1, 0, 0, 1, 1, 1, 0, 1, 0, 1, 0, 1, 0, 1, 0, 0, 0, 1,\n",
       "       1, 1, 0, 1, 0, 1, 0, 0, 0, 0, 0, 0, 0, 1, 0, 0, 0, 0, 0, 0, 0, 0,\n",
       "       1, 0, 0, 1, 1, 1, 1, 0, 0, 0, 1, 1, 1, 0, 0, 0, 0, 0, 0, 0, 1, 0,\n",
       "       0, 0, 1, 1, 1, 0, 0, 0, 1, 0, 0, 1, 0, 1, 0, 1, 0, 0, 0, 0, 0, 0,\n",
       "       1, 1, 0, 1, 0, 1, 1, 0, 0, 0, 0, 1, 1, 0, 0, 0, 0, 1, 0, 0, 0, 0,\n",
       "       0, 0, 1, 1, 1, 0, 0, 1, 0, 1, 0, 0, 1, 1, 1, 1, 1, 0, 1, 0, 0, 1,\n",
       "       1, 0, 1, 1, 0, 1, 0, 0, 1, 1, 1, 0, 0, 0, 0, 1, 1, 0, 0, 0, 0, 1,\n",
       "       1, 1, 0, 0, 1, 0, 1, 1, 0, 0, 1, 0, 1, 1, 0, 0, 0, 0, 1, 1, 0, 0,\n",
       "       0, 0, 1], dtype=int64)"
      ]
     },
     "execution_count": 69,
     "metadata": {},
     "output_type": "execute_result"
    }
   ],
   "source": [
    "# Fazendo a previsão\n",
    "previsoes_v2 = naive_titanic_sem_escalonamento.predict(X_teste_v2)\n",
    "previsoes"
   ]
  },
  {
   "cell_type": "code",
   "execution_count": 70,
   "id": "cdf51a8d",
   "metadata": {},
   "outputs": [
    {
     "data": {
      "text/plain": [
       "14     0\n",
       "159    0\n",
       "763    1\n",
       "741    0\n",
       "483    1\n",
       "      ..\n",
       "620    0\n",
       "821    1\n",
       "65     1\n",
       "884    0\n",
       "52     1\n",
       "Name: Survived, Length: 267, dtype: int64"
      ]
     },
     "execution_count": 70,
     "metadata": {},
     "output_type": "execute_result"
    }
   ],
   "source": [
    "# Comparando com o resultado\n",
    "Y_teste_v2"
   ]
  },
  {
   "cell_type": "markdown",
   "id": "ff32aaf9",
   "metadata": {},
   "source": [
    "### Verificando os resultados"
   ]
  },
  {
   "cell_type": "code",
   "execution_count": 76,
   "id": "6607f365",
   "metadata": {},
   "outputs": [],
   "source": [
    "from sklearn.metrics import accuracy_score, classification_report\n",
    "from yellowbrick.classifier import ConfusionMatrix"
   ]
  },
  {
   "cell_type": "code",
   "execution_count": 77,
   "id": "62957136",
   "metadata": {},
   "outputs": [
    {
     "data": {
      "text/plain": [
       "0.7715355805243446"
      ]
     },
     "execution_count": 77,
     "metadata": {},
     "output_type": "execute_result"
    }
   ],
   "source": [
    "# Verificando a precisão\n",
    "accuracy_score(Y_teste_v2, previsoes_v2)"
   ]
  },
  {
   "cell_type": "code",
   "execution_count": 80,
   "id": "cd907b2e",
   "metadata": {},
   "outputs": [
    {
     "data": {
      "text/plain": [
       "0.7715355805243446"
      ]
     },
     "execution_count": 80,
     "metadata": {},
     "output_type": "execute_result"
    },
    {
     "data": {
      "image/png": "[encoded data removed]",
      "text/plain": [
       "<Figure size 576x396 with 1 Axes>"
      ]
     },
     "metadata": {},
     "output_type": "display_data"
    }
   ],
   "source": [
    "# Criando a matrix de confusão\n",
    "cm_v2 = ConfusionMatrix(naive_titanic_sem_escalonamento)\n",
    "cm_v2.fit(X_treino_v2, Y_treino_v2)\n",
    "cm_v2.score(X_teste_v2, Y_teste_v2)"
   ]
  },
  {
   "cell_type": "code",
   "execution_count": 83,
   "id": "120778e5",
   "metadata": {},
   "outputs": [
    {
     "name": "stdout",
     "output_type": "stream",
     "text": [
      "              precision    recall  f1-score   support\n",
      "\n",
      "           0       0.80      0.82      0.81       157\n",
      "           1       0.73      0.71      0.72       110\n",
      "\n",
      "    accuracy                           0.77       267\n",
      "   macro avg       0.76      0.76      0.76       267\n",
      "weighted avg       0.77      0.77      0.77       267\n",
      "\n"
     ]
    }
   ],
   "source": [
    "print(classification_report(Y_teste_v2, previsoes_v2))"
   ]
  },
  {
   "cell_type": "markdown",
   "id": "e4f24576",
   "metadata": {},
   "source": [
    "# Resultados finais com o Naive Bayes\n",
    "\n",
    "Os resultados obtidos com e sem escalonameto rendeu uma previsão acima de 75%, mas ainda dá para melhorar esse percentual usando outros algoritmos.\n",
    "\n",
    "#### Com escalonamento\n",
    "O percentual de precisão foi de 76.78% onde ele conseguiu identificar 81% das pessoas que não sobreviveram e acertou 80%, errando 30 registros, enquanto 71% foi das pessoas que sobreviveram e o algoritmo acertou 72%, errando 32 registros.\n",
    "\n",
    "#### Sem escalonamento\n",
    "O percentual de precisão foi de 77.15%, obtendo um melhoramento de aproximadamente 1%. Ele conseguiu identificar 82% das pessoas que não sobreviveram e acertou 80%, errando 29 registros, enquanto 71% ele conseguiu identificar que sobreviveram e o algoritmo acertou 73%, errando 32 registros."
   ]
  }
 ],
 "metadata": {
  "kernelspec": {
   "display_name": "Python 3 (ipykernel)",
   "language": "python",
   "name": "python3"
  },
  "language_info": {
   "codemirror_mode": {
    "name": "ipython",
    "version": 3
   },
   "file_extension": ".py",
   "mimetype": "text/x-python",
   "name": "python",
   "nbconvert_exporter": "python",
   "pygments_lexer": "ipython3",
   "version": "3.9.7"
  }
 },
 "nbformat": 4,
 "nbformat_minor": 5
}
